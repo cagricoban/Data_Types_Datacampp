{
 "cells": [
  {
   "cell_type": "code",
   "execution_count": 1,
   "id": "e46ceef8-994b-4cfd-bfd7-dc938683d912",
   "metadata": {},
   "outputs": [],
   "source": [
    "#Booleans - The logical data type"
   ]
  },
  {
   "cell_type": "code",
   "execution_count": 2,
   "id": "652d2ba9-f13e-40d1-87ef-eb2f70309474",
   "metadata": {},
   "outputs": [
    {
     "name": "stdout",
     "output_type": "stream",
     "text": [
      "Run to the store NOW!\n"
     ]
    }
   ],
   "source": [
    "out_of_cookies= True \n",
    "if out_of_cookies:\n",
    "    print(\"Run to the store NOW!\")"
   ]
  },
  {
   "cell_type": "code",
   "execution_count": 3,
   "id": "52236cf8-f1b4-40ff-8906-b56a6b56affa",
   "metadata": {},
   "outputs": [],
   "source": [
    "#Truthy and Falsey"
   ]
  },
  {
   "cell_type": "code",
   "execution_count": 4,
   "id": "5711a808-66e9-4e0a-b32b-a738168dff66",
   "metadata": {},
   "outputs": [
    {
     "name": "stdout",
     "output_type": "stream",
     "text": [
      "We have apples.\n"
     ]
    }
   ],
   "source": [
    "apples=2\n",
    "if apples:\n",
    "    print(\"We have apples.\")"
   ]
  },
  {
   "cell_type": "code",
   "execution_count": 5,
   "id": "c1476bec-087b-41ba-957d-73803ab53e06",
   "metadata": {},
   "outputs": [
    {
     "ename": "NameError",
     "evalue": "name 'apple' is not defined",
     "output_type": "error",
     "traceback": [
      "\u001b[1;31m---------------------------------------------------------------------------\u001b[0m",
      "\u001b[1;31mNameError\u001b[0m                                 Traceback (most recent call last)",
      "\u001b[1;32m~\\AppData\\Local\\Temp\\ipykernel_8860\\21497938.py\u001b[0m in \u001b[0;36m<module>\u001b[1;34m\u001b[0m\n\u001b[0;32m      1\u001b[0m \u001b[0mapples\u001b[0m \u001b[1;33m=\u001b[0m\u001b[1;36m0\u001b[0m\u001b[1;33m\u001b[0m\u001b[1;33m\u001b[0m\u001b[0m\n\u001b[1;32m----> 2\u001b[1;33m \u001b[1;32mif\u001b[0m \u001b[0mapple\u001b[0m\u001b[1;33m:\u001b[0m\u001b[1;33m\u001b[0m\u001b[1;33m\u001b[0m\u001b[0m\n\u001b[0m\u001b[0;32m      3\u001b[0m     \u001b[0mprint\u001b[0m\u001b[1;33m(\u001b[0m\u001b[1;34m'We have apples'\u001b[0m\u001b[1;33m)\u001b[0m\u001b[1;33m\u001b[0m\u001b[1;33m\u001b[0m\u001b[0m\n",
      "\u001b[1;31mNameError\u001b[0m: name 'apple' is not defined"
     ]
    }
   ],
   "source": [
    "apples =0\n",
    "if apple:\n",
    "    print('We have apples')\n"
   ]
  },
  {
   "cell_type": "code",
   "execution_count": null,
   "id": "ad83577d-8cb9-496e-97df-e85106cacecf",
   "metadata": {},
   "outputs": [],
   "source": [
    "# == equalto\n",
    "# != not equal to\n",
    "# < less than\n",
    "# <= less than or equal to\n",
    "# greater than \n",
    "# greater than or equal to"
   ]
  }
 ],
 "metadata": {
  "kernelspec": {
   "display_name": "Python 3 (ipykernel)",
   "language": "python",
   "name": "python3"
  },
  "language_info": {
   "codemirror_mode": {
    "name": "ipython",
    "version": 3
   },
   "file_extension": ".py",
   "mimetype": "text/x-python",
   "name": "python",
   "nbconvert_exporter": "python",
   "pygments_lexer": "ipython3",
   "version": "3.9.13"
  }
 },
 "nbformat": 4,
 "nbformat_minor": 5
}
