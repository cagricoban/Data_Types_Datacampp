{
 "cells": [
  {
   "cell_type": "code",
   "execution_count": 2,
   "id": "fbc17ee7-1092-447a-8c61-aaf12d485fa0",
   "metadata": {},
   "outputs": [],
   "source": [
    "#set"
   ]
  },
  {
   "cell_type": "code",
   "execution_count": 3,
   "id": "0ff8c9af-aaf8-4c0f-8874-673933a46f70",
   "metadata": {},
   "outputs": [],
   "source": [
    "cookies_eaten_todat= ['chocolate chip']"
   ]
  },
  {
   "cell_type": "code",
   "execution_count": 4,
   "id": "b5ad7ba7-7b16-4097-b44e-d719b8ffba16",
   "metadata": {},
   "outputs": [],
   "source": [
    "types_of_cookies_eaten = set(cookies_eaten_todat)"
   ]
  },
  {
   "cell_type": "code",
   "execution_count": 5,
   "id": "4ffee2e8-5299-4e3e-815a-c070c8a75df3",
   "metadata": {},
   "outputs": [],
   "source": [
    "# Modifying sets"
   ]
  },
  {
   "cell_type": "code",
   "execution_count": 6,
   "id": "7f0fcf59-d618-45b8-8906-241f8132ca1e",
   "metadata": {},
   "outputs": [],
   "source": [
    "types_of_cookies_eaten.add('chocolate chip')"
   ]
  },
  {
   "cell_type": "code",
   "execution_count": 7,
   "id": "dee2d34d-f562-45d8-8031-214f742d3a00",
   "metadata": {},
   "outputs": [],
   "source": [
    "#Updating sets "
   ]
  },
  {
   "cell_type": "code",
   "execution_count": 8,
   "id": "36d9034f-6090-4819-8bb7-bb5b51af2b06",
   "metadata": {},
   "outputs": [],
   "source": [
    "cookies_hugo_ate=['chocolate chip', 'anzac']"
   ]
  },
  {
   "cell_type": "code",
   "execution_count": 9,
   "id": "23117e0f-93d6-4e03-9165-1ccedb46a372",
   "metadata": {},
   "outputs": [],
   "source": [
    "types_of_cookies_eaten.update(cookies_hugo_ate)"
   ]
  },
  {
   "cell_type": "code",
   "execution_count": 10,
   "id": "ef971e3f-ab80-41ee-8ef9-bddbd251ddec",
   "metadata": {},
   "outputs": [
    {
     "name": "stdout",
     "output_type": "stream",
     "text": [
      "{'anzac', 'chocolate chip'}\n"
     ]
    }
   ],
   "source": [
    "print(types_of_cookies_eaten)"
   ]
  },
  {
   "cell_type": "code",
   "execution_count": 11,
   "id": "a657eb56-d503-45e7-bf1e-4050fcf2f5cb",
   "metadata": {},
   "outputs": [],
   "source": [
    "#Removing data from sets"
   ]
  },
  {
   "cell_type": "code",
   "execution_count": 12,
   "id": "9ffac31a-2b7b-41c2-bc75-ffe6519930d3",
   "metadata": {},
   "outputs": [
    {
     "name": "stdout",
     "output_type": "stream",
     "text": [
      "{'anzac', 'chocolate chip'}\n"
     ]
    }
   ],
   "source": [
    "types_of_cookies_eaten.discard('biscotti')\n",
    "print(types_of_cookies_eaten)"
   ]
  },
  {
   "cell_type": "code",
   "execution_count": 13,
   "id": "14b2de91-4109-412a-9b9e-c1ac1463c13e",
   "metadata": {},
   "outputs": [
    {
     "data": {
      "text/plain": [
       "{'chocolate chip'}"
      ]
     },
     "execution_count": 13,
     "metadata": {},
     "output_type": "execute_result"
    }
   ],
   "source": [
    "types_of_cookies_eaten.pop()\n",
    "types_of_cookies_eaten"
   ]
  },
  {
   "cell_type": "code",
   "execution_count": null,
   "id": "6fa9ac90-502d-4672-b973-733540ebdede",
   "metadata": {},
   "outputs": [],
   "source": []
  }
 ],
 "metadata": {
  "kernelspec": {
   "display_name": "Python 3 (ipykernel)",
   "language": "python",
   "name": "python3"
  },
  "language_info": {
   "codemirror_mode": {
    "name": "ipython",
    "version": 3
   },
   "file_extension": ".py",
   "mimetype": "text/x-python",
   "name": "python",
   "nbconvert_exporter": "python",
   "pygments_lexer": "ipython3",
   "version": "3.9.13"
  }
 },
 "nbformat": 4,
 "nbformat_minor": 5
}
