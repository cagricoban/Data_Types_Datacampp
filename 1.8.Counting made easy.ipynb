{
 "cells": [
  {
   "cell_type": "code",
   "execution_count": 16,
   "id": "6f374a4a-be57-4618-9d59-b5b1a6dc2b3b",
   "metadata": {},
   "outputs": [],
   "source": [
    "#Counting made easy"
   ]
  },
  {
   "cell_type": "code",
   "execution_count": 17,
   "id": "f7f5701a-3ea4-4be4-8521-c217ca456b82",
   "metadata": {},
   "outputs": [],
   "source": [
    "#Counter "
   ]
  },
  {
   "cell_type": "code",
   "execution_count": 18,
   "id": "d2e63f66-833c-4938-9f53-3c2435e06c7c",
   "metadata": {},
   "outputs": [],
   "source": [
    "from collections import Counter "
   ]
  },
  {
   "cell_type": "code",
   "execution_count": 20,
   "id": "b6149357-e1a1-46e6-aa64-bef767a20817",
   "metadata": {},
   "outputs": [
    {
     "ename": "NameError",
     "evalue": "name 'counter' is not defined",
     "output_type": "error",
     "traceback": [
      "\u001b[1;31m---------------------------------------------------------------------------\u001b[0m",
      "\u001b[1;31mNameError\u001b[0m                                 Traceback (most recent call last)",
      "\u001b[1;32m~\\AppData\\Local\\Temp\\ipykernel_16624\\2793002824.py\u001b[0m in \u001b[0;36m<module>\u001b[1;34m\u001b[0m\n\u001b[1;32m----> 1\u001b[1;33m \u001b[0mnyc_eatery_count_by_types\u001b[0m \u001b[1;33m=\u001b[0m \u001b[0mcounter\u001b[0m\u001b[1;33m(\u001b[0m\u001b[0mnyc_eatery_types\u001b[0m\u001b[1;33m)\u001b[0m\u001b[1;33m\u001b[0m\u001b[1;33m\u001b[0m\u001b[0m\n\u001b[0m",
      "\u001b[1;31mNameError\u001b[0m: name 'counter' is not defined"
     ]
    }
   ],
   "source": [
    "nyc_eatery_count_by_types = counter(nyc_eatery_types)"
   ]
  },
  {
   "cell_type": "code",
   "execution_count": null,
   "id": "cb85c1ba-5a7f-469f-b21d-1849b360975f",
   "metadata": {},
   "outputs": [],
   "source": []
  }
 ],
 "metadata": {
  "kernelspec": {
   "display_name": "Python 3 (ipykernel)",
   "language": "python",
   "name": "python3"
  },
  "language_info": {
   "codemirror_mode": {
    "name": "ipython",
    "version": 3
   },
   "file_extension": ".py",
   "mimetype": "text/x-python",
   "name": "python",
   "nbconvert_exporter": "python",
   "pygments_lexer": "ipython3",
   "version": "3.9.13"
  }
 },
 "nbformat": 4,
 "nbformat_minor": 5
}
