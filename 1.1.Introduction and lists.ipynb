{
 "cells": [
  {
   "cell_type": "code",
   "execution_count": 1,
   "id": "fd229119-0a75-4200-985b-5de6d892f11d",
   "metadata": {},
   "outputs": [],
   "source": [
    "cookies=['chocolate,chip','peanut butter','sugar']"
   ]
  },
  {
   "cell_type": "code",
   "execution_count": 2,
   "id": "af359a91-1000-4631-af02-a36ea7fb9929",
   "metadata": {},
   "outputs": [],
   "source": [
    "cookies.append('Tirggel')"
   ]
  },
  {
   "cell_type": "code",
   "execution_count": 3,
   "id": "dcc141a9-019f-4089-aae7-a3fea63c5378",
   "metadata": {},
   "outputs": [
    {
     "name": "stdout",
     "output_type": "stream",
     "text": [
      "['chocolate,chip', 'peanut butter', 'sugar', 'Tirggel']\n"
     ]
    }
   ],
   "source": [
    "print(cookies)"
   ]
  },
  {
   "cell_type": "code",
   "execution_count": 4,
   "id": "33621adf-57fa-4b81-a225-e6e7ccddae1b",
   "metadata": {},
   "outputs": [
    {
     "name": "stdout",
     "output_type": "stream",
     "text": [
      "sugar\n"
     ]
    }
   ],
   "source": [
    "print(cookies[2])"
   ]
  },
  {
   "cell_type": "code",
   "execution_count": 5,
   "id": "7ddb82e9-1f99-4e10-b2b4-2d59c32646af",
   "metadata": {},
   "outputs": [],
   "source": [
    "#combining list"
   ]
  },
  {
   "cell_type": "code",
   "execution_count": 6,
   "id": "7d40c81c-4ad4-4f11-a30b-0113ba746443",
   "metadata": {},
   "outputs": [],
   "source": [
    "cakes= ['strawberry','vanilla']"
   ]
  },
  {
   "cell_type": "code",
   "execution_count": 7,
   "id": "bd67ce46-c213-482c-b509-a6fc5bae2ead",
   "metadata": {},
   "outputs": [],
   "source": [
    "desserts=cookies+cakes"
   ]
  },
  {
   "cell_type": "code",
   "execution_count": 8,
   "id": "387ed8ff-555b-45df-995b-6a533849ab8b",
   "metadata": {},
   "outputs": [
    {
     "name": "stdout",
     "output_type": "stream",
     "text": [
      "['chocolate,chip', 'peanut butter', 'sugar', 'Tirggel', 'strawberry', 'vanilla']\n"
     ]
    }
   ],
   "source": [
    "print(desserts)"
   ]
  },
  {
   "cell_type": "code",
   "execution_count": 9,
   "id": "8479925a-52de-4fe3-948f-083dd15ef461",
   "metadata": {},
   "outputs": [],
   "source": [
    "#Finding elements in a list\n"
   ]
  },
  {
   "cell_type": "code",
   "execution_count": 10,
   "id": "b8816ac3-a272-4ce2-adad-53de27cab928",
   "metadata": {},
   "outputs": [],
   "source": [
    "position=cookies.index('sugar')"
   ]
  },
  {
   "cell_type": "code",
   "execution_count": 11,
   "id": "de1674b0-3bea-4799-a2cc-1fb501b04429",
   "metadata": {},
   "outputs": [
    {
     "name": "stdout",
     "output_type": "stream",
     "text": [
      "2\n"
     ]
    }
   ],
   "source": [
    "print(position)"
   ]
  },
  {
   "cell_type": "code",
   "execution_count": 12,
   "id": "5dc020be-be2b-4909-bb61-cb4fbb4ca869",
   "metadata": {},
   "outputs": [],
   "source": [
    "#Removing elements in a list"
   ]
  },
  {
   "cell_type": "code",
   "execution_count": 13,
   "id": "bc21dd28-5994-4cbe-8392-14055f3302ad",
   "metadata": {},
   "outputs": [
    {
     "name": "stdout",
     "output_type": "stream",
     "text": [
      "sugar\n"
     ]
    }
   ],
   "source": [
    "name=cookies.pop(position)\n",
    "print(name)"
   ]
  },
  {
   "cell_type": "code",
   "execution_count": 15,
   "id": "7349ac72-668c-44f1-9e33-8f7acc1ec078",
   "metadata": {},
   "outputs": [
    {
     "name": "stdout",
     "output_type": "stream",
     "text": [
      "['chocolate,chip', 'peanut butter', 'Tirggel']\n"
     ]
    }
   ],
   "source": [
    "print(cookies)"
   ]
  },
  {
   "cell_type": "code",
   "execution_count": 17,
   "id": "7bd64f59-f10a-405e-bda3-cd7fbb426af4",
   "metadata": {},
   "outputs": [],
   "source": [
    "#Sorting lists"
   ]
  },
  {
   "cell_type": "code",
   "execution_count": 18,
   "id": "7bfc170f-7996-4741-af46-e0ff6784eba0",
   "metadata": {},
   "outputs": [],
   "source": [
    "sorted_cookies= sorted(cookies)"
   ]
  },
  {
   "cell_type": "code",
   "execution_count": 19,
   "id": "e4a62edd-6fe2-420a-9bcb-c617eb5efc3f",
   "metadata": {},
   "outputs": [
    {
     "name": "stdout",
     "output_type": "stream",
     "text": [
      "['Tirggel', 'chocolate,chip', 'peanut butter']\n"
     ]
    }
   ],
   "source": [
    "print(sorted_cookies)"
   ]
  },
  {
   "cell_type": "code",
   "execution_count": 22,
   "id": "8858c3c5-3df2-4a32-b21f-24820e85c884",
   "metadata": {},
   "outputs": [
    {
     "name": "stdout",
     "output_type": "stream",
     "text": [
      "['Ximena', 'Aliza', 'Ayden', 'Calvin', 'Sandeep']\n"
     ]
    }
   ],
   "source": [
    "#pratice\n",
    "# Create a list containing the names: baby_names\n",
    "baby_names = ['Ximena','Aliza','Ayden','Calvin']\n",
    "\n",
    "# Extend baby_names with 'Rowen' and 'Sandeep'\n",
    "baby_names.extend(['Rowen','Sandeep'])\n",
    "\n",
    "# Find the position of 'Rowen': position\n",
    "position = baby_names.index('Rowen')\n",
    "\n",
    "# Remove 'Rowen' from baby_names\n",
    "baby_names.pop(position)\n",
    "\n",
    "# Print baby_names\n",
    "print(baby_names)"
   ]
  },
  {
   "cell_type": "code",
   "execution_count": null,
   "id": "84e0385d-5dd0-4349-a686-0688584fd0e6",
   "metadata": {},
   "outputs": [],
   "source": []
  }
 ],
 "metadata": {
  "kernelspec": {
   "display_name": "Python 3 (ipykernel)",
   "language": "python",
   "name": "python3"
  },
  "language_info": {
   "codemirror_mode": {
    "name": "ipython",
    "version": 3
   },
   "file_extension": ".py",
   "mimetype": "text/x-python",
   "name": "python",
   "nbconvert_exporter": "python",
   "pygments_lexer": "ipython3",
   "version": "3.9.13"
  }
 },
 "nbformat": 4,
 "nbformat_minor": 5
}
