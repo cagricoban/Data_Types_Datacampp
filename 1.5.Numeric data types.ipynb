{
 "cells": [
  {
   "cell_type": "code",
   "execution_count": 1,
   "id": "df3cb15e-b49c-40d4-b9e9-d59f4930202d",
   "metadata": {},
   "outputs": [],
   "source": [
    "#Decimals"
   ]
  },
  {
   "cell_type": "code",
   "execution_count": 2,
   "id": "5e039345-c21f-4dfe-b85d-459eebb0e3a5",
   "metadata": {},
   "outputs": [],
   "source": [
    "from decimal import Decimal"
   ]
  },
  {
   "cell_type": "code",
   "execution_count": 3,
   "id": "efc9c2d3-5abc-4c9c-9216-ab820dd85ee4",
   "metadata": {},
   "outputs": [
    {
     "data": {
      "text/plain": [
       "Decimal('123456789123456789')"
      ]
     },
     "execution_count": 3,
     "metadata": {},
     "output_type": "execute_result"
    }
   ],
   "source": [
    "Decimal('123456789123456789')"
   ]
  },
  {
   "cell_type": "code",
   "execution_count": 4,
   "id": "8a508555-2dd8-441d-ba5b-5db07044c1a1",
   "metadata": {},
   "outputs": [],
   "source": [
    "#Printing floats"
   ]
  },
  {
   "cell_type": "code",
   "execution_count": 5,
   "id": "ea78934e-7025-41fa-aa41-acf78665fa3f",
   "metadata": {},
   "outputs": [
    {
     "name": "stdout",
     "output_type": "stream",
     "text": [
      "1e-06\n"
     ]
    }
   ],
   "source": [
    "print(0.000001)"
   ]
  },
  {
   "cell_type": "code",
   "execution_count": 6,
   "id": "3a098f63-a27b-441d-a107-e14cd022d068",
   "metadata": {},
   "outputs": [
    {
     "name": "stdout",
     "output_type": "stream",
     "text": [
      "0.000010\n"
     ]
    }
   ],
   "source": [
    "print(f\"{0.00001:f}\")"
   ]
  },
  {
   "cell_type": "code",
   "execution_count": 7,
   "id": "8c1b3ece-e7e9-4f5d-b74b-aec28ead8748",
   "metadata": {},
   "outputs": [
    {
     "name": "stdout",
     "output_type": "stream",
     "text": [
      "0.000000\n"
     ]
    }
   ],
   "source": [
    "print(f\"{0.0000001:f}\")"
   ]
  },
  {
   "cell_type": "code",
   "execution_count": 10,
   "id": "bd768cce-74b1-4bf3-a17d-62bd5f359836",
   "metadata": {},
   "outputs": [
    {
     "name": "stdout",
     "output_type": "stream",
     "text": [
      "0.0000010\n"
     ]
    }
   ],
   "source": [
    "print(f\"{0.000001:.7f}\")"
   ]
  },
  {
   "cell_type": "code",
   "execution_count": 11,
   "id": "433f2a53-dd45-48e8-ba62-d9bfdcb785bc",
   "metadata": {},
   "outputs": [],
   "source": [
    "#Python division types"
   ]
  },
  {
   "cell_type": "code",
   "execution_count": 12,
   "id": "16a49db3-90e5-4e86-9ab8-aec4b36ceb9a",
   "metadata": {},
   "outputs": [
    {
     "data": {
      "text/plain": [
       "2"
      ]
     },
     "execution_count": 12,
     "metadata": {},
     "output_type": "execute_result"
    }
   ],
   "source": [
    "4//2"
   ]
  },
  {
   "cell_type": "code",
   "execution_count": null,
   "id": "da9eaf5d-a085-471e-b567-13152f927685",
   "metadata": {},
   "outputs": [],
   "source": []
  }
 ],
 "metadata": {
  "kernelspec": {
   "display_name": "Python 3 (ipykernel)",
   "language": "python",
   "name": "python3"
  },
  "language_info": {
   "codemirror_mode": {
    "name": "ipython",
    "version": 3
   },
   "file_extension": ".py",
   "mimetype": "text/x-python",
   "name": "python",
   "nbconvert_exporter": "python",
   "pygments_lexer": "ipython3",
   "version": "3.9.13"
  }
 },
 "nbformat": 4,
 "nbformat_minor": 5
}
