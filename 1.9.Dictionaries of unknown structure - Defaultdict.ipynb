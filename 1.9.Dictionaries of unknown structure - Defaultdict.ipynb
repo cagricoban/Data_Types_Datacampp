{
 "cells": [
  {
   "cell_type": "code",
   "execution_count": 1,
   "id": "e83b2ef5-a49d-45c7-ad4a-cd0073a86eef",
   "metadata": {},
   "outputs": [],
   "source": [
    "from dataclasses import dataclass"
   ]
  },
  {
   "cell_type": "code",
   "execution_count": 6,
   "id": "b9d4db52-9761-4a44-8274-7c4bfe47f8ed",
   "metadata": {},
   "outputs": [],
   "source": [
    "class Cookie:\n",
    "    name:str\n",
    "    quantity: int=0"
   ]
  },
  {
   "cell_type": "code",
   "execution_count": 7,
   "id": "0db34bd7-4cc2-4870-a231-a8a401b83a7f",
   "metadata": {},
   "outputs": [
    {
     "ename": "TypeError",
     "evalue": "Cookie() takes no arguments",
     "output_type": "error",
     "traceback": [
      "\u001b[1;31m---------------------------------------------------------------------------\u001b[0m",
      "\u001b[1;31mTypeError\u001b[0m                                 Traceback (most recent call last)",
      "\u001b[1;32m~\\AppData\\Local\\Temp\\ipykernel_5912\\3120990443.py\u001b[0m in \u001b[0;36m<module>\u001b[1;34m\u001b[0m\n\u001b[1;32m----> 1\u001b[1;33m \u001b[0mchocolate_chip\u001b[0m \u001b[1;33m=\u001b[0m \u001b[0mCookie\u001b[0m\u001b[1;33m(\u001b[0m\u001b[1;34m\"chocolate chip\"\u001b[0m\u001b[1;33m,\u001b[0m\u001b[1;36m13\u001b[0m\u001b[1;33m)\u001b[0m\u001b[1;33m\u001b[0m\u001b[1;33m\u001b[0m\u001b[0m\n\u001b[0m\u001b[0;32m      2\u001b[0m \u001b[0mprint\u001b[0m\u001b[1;33m(\u001b[0m\u001b[0mchocolate_chip\u001b[0m\u001b[1;33m.\u001b[0m\u001b[0mname\u001b[0m\u001b[1;33m)\u001b[0m\u001b[1;33m\u001b[0m\u001b[1;33m\u001b[0m\u001b[0m\n\u001b[0;32m      3\u001b[0m \u001b[0mprint\u001b[0m\u001b[1;33m(\u001b[0m\u001b[0mchocolate_chip\u001b[0m\u001b[1;33m.\u001b[0m\u001b[0mquantity\u001b[0m\u001b[1;33m)\u001b[0m\u001b[1;33m\u001b[0m\u001b[1;33m\u001b[0m\u001b[0m\n",
      "\u001b[1;31mTypeError\u001b[0m: Cookie() takes no arguments"
     ]
    }
   ],
   "source": [
    "chocolate_chip = Cookie(\"chocolate chip\",13)\n",
    "print(chocolate_chip.name)\n",
    "print(chocolate_chip.quantity)"
   ]
  },
  {
   "cell_type": "code",
   "execution_count": null,
   "id": "99d5b0a4-3f15-46c8-90a4-8aafb809977e",
   "metadata": {},
   "outputs": [],
   "source": []
  }
 ],
 "metadata": {
  "kernelspec": {
   "display_name": "Python 3 (ipykernel)",
   "language": "python",
   "name": "python3"
  },
  "language_info": {
   "codemirror_mode": {
    "name": "ipython",
    "version": 3
   },
   "file_extension": ".py",
   "mimetype": "text/x-python",
   "name": "python",
   "nbconvert_exporter": "python",
   "pygments_lexer": "ipython3",
   "version": "3.9.13"
  }
 },
 "nbformat": 4,
 "nbformat_minor": 5
}
