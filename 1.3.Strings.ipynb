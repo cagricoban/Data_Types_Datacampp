{
 "cells": [
  {
   "cell_type": "code",
   "execution_count": 1,
   "id": "73e8d361-4990-459c-a928-5c96a8c91a0a",
   "metadata": {},
   "outputs": [],
   "source": [
    "cookie_name='Anzac'\n",
    "cookie_price=\"$1.99\""
   ]
  },
  {
   "cell_type": "code",
   "execution_count": 4,
   "id": "1360acd4-ffae-4430-a4af-d5dd66dcc54e",
   "metadata": {},
   "outputs": [
    {
     "name": "stdout",
     "output_type": "stream",
     "text": [
      "Each Anzac cookie costs $1.99.\n"
     ]
    }
   ],
   "source": [
    "print(f\"Each {cookie_name} cookie costs {cookie_price}.\")"
   ]
  },
  {
   "cell_type": "code",
   "execution_count": 5,
   "id": "b03ac114-b167-4b9b-91aa-69c4fbf020f6",
   "metadata": {},
   "outputs": [],
   "source": [
    "child_ages =[\"3\",\"4\",\"7\",\"8\"]"
   ]
  },
  {
   "cell_type": "code",
   "execution_count": 6,
   "id": "ddbd46d3-4f75-41ba-b0b7-1569eab59f8b",
   "metadata": {},
   "outputs": [
    {
     "name": "stdout",
     "output_type": "stream",
     "text": [
      "3,4,7,8\n"
     ]
    }
   ],
   "source": [
    "print(\",\".join(child_ages))"
   ]
  },
  {
   "cell_type": "code",
   "execution_count": 7,
   "id": "7e5e3525-e625-4045-9a56-c0d8ae3dbc0b",
   "metadata": {},
   "outputs": [
    {
     "name": "stdout",
     "output_type": "stream",
     "text": [
      "The are ages 3,4,7, and 8.\n"
     ]
    }
   ],
   "source": [
    "print(f\"The are ages {','.join(child_ages[0:3])}, and {child_ages[-1]}.\")"
   ]
  },
  {
   "cell_type": "code",
   "execution_count": 8,
   "id": "1f7558e1-bc89-4381-a9ed-c11fb541575f",
   "metadata": {},
   "outputs": [],
   "source": [
    "#Matching parts of a string "
   ]
  },
  {
   "cell_type": "code",
   "execution_count": 11,
   "id": "6d5f773d-2c64-458f-8473-813cc7dc65ad",
   "metadata": {},
   "outputs": [
    {
     "name": "stdout",
     "output_type": "stream",
     "text": [
      "['Ahmed']\n"
     ]
    }
   ],
   "source": [
    "boy_names=[\"Mohamed\", \"Youssef\",\"Ahmed\"]\n",
    "print([name for name in boy_names if name.startswith('A')])"
   ]
  },
  {
   "cell_type": "code",
   "execution_count": 12,
   "id": "52363389-bca1-4df2-9329-b427012d1ae1",
   "metadata": {},
   "outputs": [],
   "source": [
    "# Searching for things in strings "
   ]
  },
  {
   "cell_type": "code",
   "execution_count": 13,
   "id": "2d0aae72-0e5b-4721-9c42-7dc43c7b001b",
   "metadata": {},
   "outputs": [
    {
     "data": {
      "text/plain": [
       "True"
      ]
     },
     "execution_count": 13,
     "metadata": {},
     "output_type": "execute_result"
    }
   ],
   "source": [
    "\"long\" in \"Life is a long lesson in humility.\""
   ]
  },
  {
   "cell_type": "code",
   "execution_count": 15,
   "id": "322a64ce-2b58-46f6-8c5e-8f8a37603249",
   "metadata": {},
   "outputs": [
    {
     "data": {
      "text/plain": [
       "False"
      ]
     },
     "execution_count": 15,
     "metadata": {},
     "output_type": "execute_result"
    }
   ],
   "source": [
    "\"life\" in \"Life is a long lesson in humility.\""
   ]
  },
  {
   "cell_type": "code",
   "execution_count": 16,
   "id": "098389db-4406-4216-b545-d153cfb410b1",
   "metadata": {},
   "outputs": [],
   "source": [
    "#An approach to being case insensitive"
   ]
  },
  {
   "cell_type": "code",
   "execution_count": 17,
   "id": "6bb906ef-e196-4808-8349-2c7884e92d14",
   "metadata": {},
   "outputs": [
    {
     "data": {
      "text/plain": [
       "True"
      ]
     },
     "execution_count": 17,
     "metadata": {},
     "output_type": "execute_result"
    }
   ],
   "source": [
    "\"life\" in \"Life is a long lesson in humility.\".lower()"
   ]
  },
  {
   "cell_type": "code",
   "execution_count": null,
   "id": "a2d32dbc-8663-4160-b71d-8f5bd4d715e0",
   "metadata": {},
   "outputs": [],
   "source": []
  }
 ],
 "metadata": {
  "kernelspec": {
   "display_name": "Python 3 (ipykernel)",
   "language": "python",
   "name": "python3"
  },
  "language_info": {
   "codemirror_mode": {
    "name": "ipython",
    "version": 3
   },
   "file_extension": ".py",
   "mimetype": "text/x-python",
   "name": "python",
   "nbconvert_exporter": "python",
   "pygments_lexer": "ipython3",
   "version": "3.9.13"
  }
 },
 "nbformat": 4,
 "nbformat_minor": 5
}
